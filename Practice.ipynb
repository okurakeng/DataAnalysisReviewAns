{
 "cells": [
  {
   "cell_type": "markdown",
   "id": "3c5f94f7-5ddb-4b2e-bfef-dce9a8f9b3fe",
   "metadata": {},
   "source": [
    "# Practice Exercises"
   ]
  },
  {
   "cell_type": "code",
   "execution_count": null,
   "id": "897c0c87-0672-460c-8314-a0dd4f9d8cba",
   "metadata": {
    "tags": []
   },
   "outputs": [],
   "source": [
    "# import the pandas, seaborn libaries\n",
    "import pandas as pd\n",
    "import seaborn as sns"
   ]
  },
  {
   "cell_type": "markdown",
   "id": "43e6cea5-a89e-4760-bd98-f779cecc206f",
   "metadata": {},
   "source": [
    "### Getting Data"
   ]
  },
  {
   "cell_type": "code",
   "execution_count": null,
   "id": "49cd5cfa-71ac-43c2-a26a-c765023e44da",
   "metadata": {
    "tags": []
   },
   "outputs": [],
   "source": [
    "# get the data from 'waterData.csv', store it in a varible called df\n",
    "# Hint: You can use Google, something like \"reading csv files in pandas\" \n",
    "df = pd.read_csv('waterData.csv')"
   ]
  },
  {
   "cell_type": "code",
   "execution_count": null,
   "id": "c4333893-5456-473a-950a-48b6b444f44d",
   "metadata": {
    "tags": []
   },
   "outputs": [],
   "source": [
    "# show the first few rows of the datafame\n",
    "df.head(5)"
   ]
  },
  {
   "cell_type": "markdown",
   "id": "466d0a07-7bbb-4472-90ab-bcb5da93dccb",
   "metadata": {},
   "source": [
    "**What are some of the columns you see? What are the index?**\n",
    "\n",
    "Temp"
   ]
  },
  {
   "cell_type": "markdown",
   "id": "a207bd80-c34c-4d72-8358-bdd5a67392d7",
   "metadata": {},
   "source": [
    "### Cleaning Data"
   ]
  },
  {
   "cell_type": "code",
   "execution_count": null,
   "id": "cef58016-cb8d-4453-8916-dd1f0f02ccef",
   "metadata": {
    "tags": []
   },
   "outputs": [],
   "source": [
    "# get the number of distinct data in each col \n",
    "df.nunique()"
   ]
  },
  {
   "cell_type": "code",
   "execution_count": null,
   "id": "544ecf93-7695-40f7-8f78-fa36306173b7",
   "metadata": {
    "tags": []
   },
   "outputs": [],
   "source": [
    "# remove any rows the have NA\n",
    "df = df.dropna()"
   ]
  },
  {
   "cell_type": "code",
   "execution_count": null,
   "id": "d566333c-35d3-436f-8e4c-7501a6f2d1ae",
   "metadata": {
    "tags": []
   },
   "outputs": [],
   "source": [
    "# use df.query() to keep rows that have 'P' in the `00010_surface_cd` column \n",
    "df = df.query(\"`00010_surface_cd` == 'P'\")"
   ]
  },
  {
   "cell_type": "code",
   "execution_count": null,
   "id": "21f0bbab-c5be-467d-a8dd-17dfa604118f",
   "metadata": {
    "tags": []
   },
   "outputs": [],
   "source": [
    "# drop the following columns of data ['Unnamed: 0','00010_surface_cd', '00095_surface_cd', '00300_surface_cd','00400_surface_cd', '63680_surface_cd','90860_surface'] \n",
    "columns_to_drop = ['Unnamed: 0', '00010_surface_cd', '00095_surface_cd', '00300_surface_cd', '00400_surface_cd', '63680_surface_cd', '90860_surface']\n",
    "df = df.drop(columns=columns_to_drop)"
   ]
  },
  {
   "cell_type": "code",
   "execution_count": null,
   "id": "cd4407bc-e583-457a-a6bf-422268596194",
   "metadata": {
    "tags": []
   },
   "outputs": [],
   "source": [
    "# rename the 'Temp' col to 'Temperature'\n",
    "df = df.rename(columns={'Temp': 'Temperature'})"
   ]
  },
  {
   "cell_type": "code",
   "execution_count": null,
   "id": "e0095b7a-be03-4287-b319-7f8e63154fba",
   "metadata": {},
   "outputs": [],
   "source": [
    "# rename the 'Cond' col to 'Conductivity'\n",
    "df = df.rename(columns={'Cond': 'Conductivity'})"
   ]
  },
  {
   "cell_type": "code",
   "execution_count": null,
   "id": "2a8bce3e-0ff9-47bc-acd0-065eccb5e9fe",
   "metadata": {
    "tags": []
   },
   "outputs": [],
   "source": [
    "# rename the 'DOpct' col to 'DO'\n",
    "df = df.rename(columns={'DOpct': 'DO'})"
   ]
  },
  {
   "cell_type": "code",
   "execution_count": null,
   "id": "67aedcf3-a262-495b-a789-536d71fb76b9",
   "metadata": {},
   "outputs": [],
   "source": [
    "# rename the 'Turb' col to 'Turbidity'\n",
    "df = df.rename(columns={'Turb': 'Turbidity'})"
   ]
  },
  {
   "cell_type": "code",
   "execution_count": null,
   "id": "cd4901bf-79a0-484b-845c-00f52c8b9831",
   "metadata": {
    "tags": []
   },
   "outputs": [],
   "source": [
    "# rename the 'Sal' col to 'Salinity'\n",
    "df = df.rename(columns={'Sal': 'Salinity'})"
   ]
  },
  {
   "cell_type": "code",
   "execution_count": null,
   "id": "e12d15ea-f682-49a7-9e95-2c50f9b8a9c3",
   "metadata": {
    "tags": []
   },
   "outputs": [],
   "source": [
    "# show the first few rows of the datafame again\n",
    "df.head()"
   ]
  },
  {
   "cell_type": "markdown",
   "id": "73ad4709-94f2-4d52-8c96-82eba0674b6c",
   "metadata": {},
   "source": [
    "### Preparing the Data"
   ]
  },
  {
   "cell_type": "code",
   "execution_count": null,
   "id": "3615f78f-549f-491c-866b-d0373735e5b0",
   "metadata": {
    "tags": []
   },
   "outputs": [],
   "source": [
    "# set the timestamp column so it's the index now\n",
    "df.set_index('timestamp', inplace=True)"
   ]
  },
  {
   "cell_type": "code",
   "execution_count": null,
   "id": "e946b130-6648-40d6-b8f4-4541745fbc16",
   "metadata": {
    "tags": []
   },
   "outputs": [],
   "source": [
    "# show the first few rows of the datafame again\n",
    "df.head()"
   ]
  },
  {
   "cell_type": "code",
   "execution_count": null,
   "id": "13a6a7db-224f-41a4-adb0-a0cb7b222c9e",
   "metadata": {
    "tags": []
   },
   "outputs": [],
   "source": [
    "# convert temp to F\n",
    "def celsius_to_fahrenheit(row):\n",
    "    return (row* 9/5) + 32\n",
    "\n",
    "df['Temperature'] = df['Temperature'].apply(celsius_to_fahrenheit)"
   ]
  },
  {
   "cell_type": "code",
   "execution_count": null,
   "id": "90717dcd-6805-4e9f-8121-353682f06a5d",
   "metadata": {
    "tags": []
   },
   "outputs": [],
   "source": [
    "# show the first few rows of the datafame again again\n",
    "df.head()\n",
    "\n",
    "# by the way, what's the shortcut to run cells instead of having to press Play"
   ]
  },
  {
   "cell_type": "markdown",
   "id": "d5b31ede-b97e-4fab-8087-89efcbaddab0",
   "metadata": {
    "tags": []
   },
   "source": [
    "### Data Analysis"
   ]
  },
  {
   "cell_type": "code",
   "execution_count": null,
   "id": "a5eeb07f-6f00-46d5-aca6-b2169470e5e7",
   "metadata": {
    "tags": []
   },
   "outputs": [],
   "source": [
    "# find the mean (average), median, min, max of the temperature\n",
    "df['Temperature'].mean()"
   ]
  },
  {
   "cell_type": "code",
   "execution_count": null,
   "id": "bee4c045-4d0f-47e7-8769-befda9b7e521",
   "metadata": {
    "tags": []
   },
   "outputs": [],
   "source": [
    "# find median temperature\n",
    "df['Temperature'].median()"
   ]
  },
  {
   "cell_type": "code",
   "execution_count": null,
   "id": "d2f456c9-a8ad-4b7c-b4d9-f75d4814607c",
   "metadata": {
    "tags": []
   },
   "outputs": [],
   "source": [
    "# find min temperature\n",
    "df['Temperature'].min()"
   ]
  },
  {
   "cell_type": "code",
   "execution_count": null,
   "id": "46690435-9b76-47e1-affd-407b02fb3c62",
   "metadata": {
    "tags": []
   },
   "outputs": [],
   "source": [
    "# find the max of the temperature\n",
    "df['Temperature'].max()"
   ]
  },
  {
   "cell_type": "code",
   "execution_count": null,
   "id": "7e688e31-e6f8-4667-a945-ba742d6ab02b",
   "metadata": {
    "tags": []
   },
   "outputs": [],
   "source": [
    "# find the pct_change\n",
    "df.pct_change()"
   ]
  },
  {
   "cell_type": "markdown",
   "id": "f233f7ed-7c99-4ab3-bd2d-6b15f9cd159f",
   "metadata": {},
   "source": [
    "### Data Viz"
   ]
  },
  {
   "cell_type": "code",
   "execution_count": null,
   "id": "d9435b63-5144-4cdb-8021-babd7e70f036",
   "metadata": {},
   "outputs": [],
   "source": [
    "df = df[8500:]"
   ]
  },
  {
   "cell_type": "code",
   "execution_count": null,
   "id": "ad33acec-3a41-44cf-b9f1-078817de1653",
   "metadata": {
    "tags": []
   },
   "outputs": [],
   "source": [
    "# Create line plot of 'Temperature', try to do it for the other parameters!\n",
    "sns.lineplot(data=df['Temperature'])\n",
    "\n",
    "# Add labels and title\n",
    "plt.ylabel('Temperature')\n",
    "plt.title('Temperature Line Plot')\n",
    "\n",
    "# Show plot\n",
    "plt.show()"
   ]
  },
  {
   "cell_type": "code",
   "execution_count": null,
   "id": "b4032aa4-20e4-49b7-9311-97f7fb8ec635",
   "metadata": {},
   "outputs": [],
   "source": []
  },
  {
   "cell_type": "markdown",
   "id": "f1e1a674-ee9e-497e-8ef6-980d9d697e0f",
   "metadata": {},
   "source": [
    "### Other stuff as time allows"
   ]
  },
  {
   "cell_type": "code",
   "execution_count": null,
   "id": "51a93f9f-709e-4dba-961c-36a472b08553",
   "metadata": {
    "tags": []
   },
   "outputs": [],
   "source": [
    "\"\"\"\n",
    "from pandas import DataFrame\n",
    "import dataretrieval.nwis as nwis\n",
    "\n",
    "def usgs_data_fetch(location: str | None = None, \n",
    "                    start_year: int | None = None,\n",
    "                    start_month: int |  None = None,\n",
    "                    start_day: int |  None = None,\n",
    "                    end_year: int | None = None,\n",
    "                    end_month: int | None = None,\n",
    "                    end_day: int | None = None) -> DataFrame:\n",
    "\n",
    "    if any(param is None for param in [location, start_year, start_month, start_day, end_year, end_month, end_day]):\n",
    "        raise ValueError(\"All parameters must be provided\")\n",
    "\n",
    "    sites_dict = {'West Point' : '01374019', 'Yonkers' : '01376307', 'Poughkeepsie' : '01372043'}\n",
    "    site = sites_dict.get(location)\n",
    "\n",
    "    df = nwis.get_record(sites=site, service='iv', start=f'{start_year}-{start_month}-{start_day}', end=f'{end_year}-{end_month}-{end_day}')\n",
    "    \n",
    "    columns_to_keep = [col for col in df.columns if not col.endswith('_cd')]\n",
    "    df = df.reset_index()\n",
    "    location_mapping = {\n",
    "        '01374019' : {\n",
    "            '00010_hrecos': 'Temp',\n",
    "            '00095_hrecos': 'Cond',\n",
    "            '00300_hrecos': 'DOpct',\n",
    "            '90860_hrecos': 'Sal',\n",
    "            '00400_hrecos': 'pH',\n",
    "            '63680_surface': 'Turb',\n",
    "            'datetime' : 'timestamp'\n",
    "        },\n",
    "        '01372043' : {\n",
    "            '00010_surface' : 'Temp',\n",
    "            '00095_surface' : 'Cond',\n",
    "            '00300_surface': 'DOpct',\n",
    "            '90860_surface, [hrecos (near surface': 'Sal',\n",
    "            '00400_surface': 'pH',\n",
    "            '63680_hrecos exo': 'Turb',\n",
    "            'datetime' : 'timestamp'\n",
    "        },\n",
    "        '01376307' : {\n",
    "            '00010_hrecos': 'Temp',\n",
    "            '00095_hrecos': 'Cond',\n",
    "            '00300_hrecos': 'DOpct',\n",
    "            '90860_hrecos': 'Sal',\n",
    "            '00400_hrecos': 'pH',\n",
    "            '63680_surface': 'Turb',\n",
    "            'datetime' : 'timestamp'\n",
    "        }, \n",
    "    }\n",
    "    \n",
    "    # Rename columns using the dictionary\n",
    "    df_renamed = df.rename(columns=location_mapping.get(site))\n",
    "\n",
    "    return df_renamed\n",
    "\n",
    "df = usgs_data_fetch('Poughkeepsie',2024,1,1,2024,4,13)\n",
    "\"\"\""
   ]
  },
  {
   "cell_type": "code",
   "execution_count": null,
   "id": "2d5ca44f-9653-4817-9117-82e0e2943e7b",
   "metadata": {},
   "outputs": [],
   "source": []
  }
 ],
 "metadata": {
  "kernelspec": {
   "display_name": "Python 3 (ipykernel)",
   "language": "python",
   "name": "python3"
  },
  "language_info": {
   "codemirror_mode": {
    "name": "ipython",
    "version": 3
   },
   "file_extension": ".py",
   "mimetype": "text/x-python",
   "name": "python",
   "nbconvert_exporter": "python",
   "pygments_lexer": "ipython3",
   "version": "3.11.5"
  }
 },
 "nbformat": 4,
 "nbformat_minor": 5
}
